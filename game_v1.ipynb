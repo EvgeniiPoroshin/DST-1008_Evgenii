{
 "cells": [
  {
   "cell_type": "markdown",
   "metadata": {},
   "source": [
    "## Игра угадай число\n",
    "#### Пользователь отгадывает число от 1 до 100,\n",
    "#### загаданное роботом"
   ]
  },
  {
   "cell_type": "code",
   "execution_count": 1,
   "metadata": {},
   "outputs": [
    {
     "name": "stdout",
     "output_type": "stream",
     "text": [
      "Число должно быть меньше!\n",
      "Число должно быть меньше!\n",
      "Число должно быть меньше!\n",
      "Число должно быть больше!\n",
      "Вы угадали число! Это число = 8, за 5 попыток.\n"
     ]
    }
   ],
   "source": [
    "import game_v1"
   ]
  }
 ],
 "metadata": {
  "kernelspec": {
   "display_name": "Python 3.9.10 64-bit",
   "language": "python",
   "name": "python3"
  },
  "language_info": {
   "codemirror_mode": {
    "name": "ipython",
    "version": 3
   },
   "file_extension": ".py",
   "mimetype": "text/x-python",
   "name": "python",
   "nbconvert_exporter": "python",
   "pygments_lexer": "ipython3",
   "version": "3.9.10"
  },
  "orig_nbformat": 4,
  "vscode": {
   "interpreter": {
    "hash": "1d4dea180818992a140ce25197fe69d4e29b84901e2aa890e6f7e7852ac166ad"
   }
  }
 },
 "nbformat": 4,
 "nbformat_minor": 2
}
