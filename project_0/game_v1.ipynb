{
 "cells": [
  {
   "cell_type": "markdown",
   "metadata": {},
   "source": [
    "## Игра угадай число\n",
    "#### Пользователь отгадывает число от 1 до 100,\n",
    "#### загаданное роботом"
   ]
  },
  {
   "cell_type": "code",
   "execution_count": 1,
   "metadata": {},
   "outputs": [
    {
     "name": "stdout",
     "output_type": "stream",
     "text": [
      "Число должно быть меньше!\n",
      "Число должно быть меньше!\n",
      "Число должно быть меньше!\n",
      "Число должно быть больше!\n",
      "Число должно быть больше!\n",
      "Число должно быть больше!\n",
      "Число должно быть больше!\n",
      "Число должно быть больше!\n",
      "Число должно быть больше!\n",
      "Число должно быть больше!\n",
      "Число должно быть больше!\n",
      "Число должно быть больше!\n",
      "Число должно быть больше!\n",
      "Число должно быть больше!\n",
      "Число должно быть больше!\n",
      "Число должно быть больше!\n",
      "Число должно быть больше!\n",
      "Вы угадали число! Это число = 24, за 18 попыток.\n"
     ]
    }
   ],
   "source": [
    "import game_v1"
   ]
  }
 ],
 "metadata": {
  "kernelspec": {
   "display_name": "Python 3.9.10 64-bit",
   "language": "python",
   "name": "python3"
  },
  "language_info": {
   "codemirror_mode": {
    "name": "ipython",
    "version": 3
   },
   "file_extension": ".py",
   "mimetype": "text/x-python",
   "name": "python",
   "nbconvert_exporter": "python",
   "pygments_lexer": "ipython3",
   "version": "3.9.10"
  },
  "orig_nbformat": 4,
  "vscode": {
   "interpreter": {
    "hash": "d71e8ae4f513991a731b21fc64e463fe777de7afb82698350042babf91f78cda"
   }
  }
 },
 "nbformat": 4,
 "nbformat_minor": 2
}
