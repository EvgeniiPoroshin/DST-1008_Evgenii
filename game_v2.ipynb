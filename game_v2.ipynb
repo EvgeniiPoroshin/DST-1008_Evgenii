{
 "cells": [
  {
   "cell_type": "markdown",
   "metadata": {},
   "source": [
    "## Игра угадай число\n",
    "#### Робот угадывает рандомно загаданное число от 1 до 100, \n",
    "#### менее чем за 20 попыток"
   ]
  },
  {
   "cell_type": "code",
   "execution_count": null,
   "metadata": {},
   "outputs": [
    {
     "ename": "",
     "evalue": "",
     "output_type": "error",
     "traceback": [
      "\u001b[1;31mНе удалось запустить ядро. \n",
      "\u001b[1;31mНе удалось запустить ядро \"Python 3.9.10 64-bit\", так как истекло время ожидания подключения. \n",
      "\u001b[1;31mДополнительные сведения см. в <a href='command:jupyter.viewOutput'>журнале Jupyter</a>."
     ]
    }
   ],
   "source": [
    "import game_v2"
   ]
  }
 ],
 "metadata": {
  "kernelspec": {
   "display_name": "Python 3.9.10 64-bit",
   "language": "python",
   "name": "python3"
  },
  "language_info": {
   "codemirror_mode": {
    "name": "ipython",
    "version": 3
   },
   "file_extension": ".py",
   "mimetype": "text/x-python",
   "name": "python",
   "nbconvert_exporter": "python",
   "pygments_lexer": "ipython3",
   "version": "3.9.10"
  },
  "orig_nbformat": 4,
  "vscode": {
   "interpreter": {
    "hash": "1d4dea180818992a140ce25197fe69d4e29b84901e2aa890e6f7e7852ac166ad"
   }
  }
 },
 "nbformat": 4,
 "nbformat_minor": 2
}
